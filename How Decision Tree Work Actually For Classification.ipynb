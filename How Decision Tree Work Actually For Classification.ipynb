{
 "cells": [
  {
   "cell_type": "markdown",
   "metadata": {},
   "source": [
    "# How Decision Tree Works Actually For Classification:"
   ]
  },
  {
   "cell_type": "markdown",
   "metadata": {},
   "source": [
    "Now we are ready talk about how to go from a raw table of data."
   ]
  },
  {
   "cell_type": "code",
   "execution_count": 13,
   "metadata": {},
   "outputs": [],
   "source": [
    "import pandas as pd"
   ]
  },
  {
   "cell_type": "code",
   "execution_count": 14,
   "metadata": {},
   "outputs": [],
   "source": [
    "data = pd.DataFrame()"
   ]
  },
  {
   "cell_type": "code",
   "execution_count": 15,
   "metadata": {},
   "outputs": [],
   "source": [
    "data['Chest Pain'] = ['No','Yes','Yes','Yes','etc..']"
   ]
  },
  {
   "cell_type": "code",
   "execution_count": 16,
   "metadata": {},
   "outputs": [],
   "source": [
    "data['Good Blood Circulation'] = ['No','Yes','Yes','No','etc..']"
   ]
  },
  {
   "cell_type": "code",
   "execution_count": 17,
   "metadata": {},
   "outputs": [],
   "source": [
    "data['Blocked Arteries'] = ['No', 'Yes','No','???','etc..']"
   ]
  },
  {
   "cell_type": "code",
   "execution_count": 18,
   "metadata": {},
   "outputs": [],
   "source": [
    "data['Heart Disease'] = ['No','Yes','No','Yes','etc..']"
   ]
  },
  {
   "cell_type": "code",
   "execution_count": 19,
   "metadata": {},
   "outputs": [
    {
     "data": {
      "text/html": [
       "<div>\n",
       "<style scoped>\n",
       "    .dataframe tbody tr th:only-of-type {\n",
       "        vertical-align: middle;\n",
       "    }\n",
       "\n",
       "    .dataframe tbody tr th {\n",
       "        vertical-align: top;\n",
       "    }\n",
       "\n",
       "    .dataframe thead th {\n",
       "        text-align: right;\n",
       "    }\n",
       "</style>\n",
       "<table border=\"1\" class=\"dataframe\">\n",
       "  <thead>\n",
       "    <tr style=\"text-align: right;\">\n",
       "      <th></th>\n",
       "      <th>Chest Pain</th>\n",
       "      <th>Good Blood Circulation</th>\n",
       "      <th>Blocked Arteries</th>\n",
       "      <th>Heart Disease</th>\n",
       "    </tr>\n",
       "  </thead>\n",
       "  <tbody>\n",
       "    <tr>\n",
       "      <th>0</th>\n",
       "      <td>No</td>\n",
       "      <td>No</td>\n",
       "      <td>No</td>\n",
       "      <td>No</td>\n",
       "    </tr>\n",
       "    <tr>\n",
       "      <th>1</th>\n",
       "      <td>Yes</td>\n",
       "      <td>Yes</td>\n",
       "      <td>Yes</td>\n",
       "      <td>Yes</td>\n",
       "    </tr>\n",
       "    <tr>\n",
       "      <th>2</th>\n",
       "      <td>Yes</td>\n",
       "      <td>Yes</td>\n",
       "      <td>No</td>\n",
       "      <td>No</td>\n",
       "    </tr>\n",
       "    <tr>\n",
       "      <th>3</th>\n",
       "      <td>Yes</td>\n",
       "      <td>No</td>\n",
       "      <td>???</td>\n",
       "      <td>Yes</td>\n",
       "    </tr>\n",
       "    <tr>\n",
       "      <th>4</th>\n",
       "      <td>etc..</td>\n",
       "      <td>etc..</td>\n",
       "      <td>etc..</td>\n",
       "      <td>etc..</td>\n",
       "    </tr>\n",
       "  </tbody>\n",
       "</table>\n",
       "</div>"
      ],
      "text/plain": [
       "  Chest Pain Good Blood Circulation Blocked Arteries Heart Disease\n",
       "0         No                     No               No            No\n",
       "1        Yes                    Yes              Yes           Yes\n",
       "2        Yes                    Yes               No            No\n",
       "3        Yes                     No              ???           Yes\n",
       "4      etc..                  etc..            etc..         etc.."
      ]
     },
     "execution_count": 19,
     "metadata": {},
     "output_type": "execute_result"
    }
   ],
   "source": [
    "data.head()"
   ]
  },
  {
   "cell_type": "markdown",
   "metadata": {},
   "source": [
    "to a decision tree."
   ]
  },
  {
   "cell_type": "code",
   "execution_count": 30,
   "metadata": {},
   "outputs": [],
   "source": [
    "# add a simple decision tree image:"
   ]
  },
  {
   "cell_type": "markdown",
   "metadata": {},
   "source": [
    "In this example, we want to create a tree that uses $Chest$ $Pain$, $Good$ $Blood$ $Circulation$, and $Blocked$ $Arteries$ to predict , Whether  or not  a patient has $Heart$ $Disease$."
   ]
  },
  {
   "cell_type": "markdown",
   "metadata": {},
   "source": [
    "The First thing we want to know is whether $Chest$ $Pain$, $Good$ $Blood$ $Circulation$, and $Blocked$ $Arteries$ should be at the very top of our tree."
   ]
  },
  {
   "cell_type": "markdown",
   "metadata": {},
   "source": [
    "We start by looking at How will $Chest$ $Pain$ to predict $Heart$ $Disease$. "
   ]
  },
  {
   "cell_type": "markdown",
   "metadata": {},
   "source": [
    "The  First patient does not have $Chest$ $Pain$ and does not have $Heart$ $Disease$."
   ]
  },
  {
   "cell_type": "markdown",
   "metadata": {},
   "source": [
    "The Second patient has $Chest$ $Pain$ and $Heart$ $Disease$."
   ]
  },
  {
   "cell_type": "markdown",
   "metadata": {},
   "source": [
    "The Third patient has $Chest$ $Pain$ but does not have $Heart$ $Disease$."
   ]
  },
  {
   "cell_type": "markdown",
   "metadata": {},
   "source": [
    "The Fourth patient has $Chest$ $Pain$ and $Heart$ $Disease$."
   ]
  },
  {
   "cell_type": "markdown",
   "metadata": {},
   "source": [
    "Ultimately , we look at $Chest$ $Pain$ and $Heart$ $Disease$ for all $303$ patient into this study."
   ]
  },
  {
   "cell_type": "code",
   "execution_count": 31,
   "metadata": {},
   "outputs": [],
   "source": [
    "# add a decision tree of the root node $Chest$ $PAin$:"
   ]
  },
  {
   "cell_type": "markdown",
   "metadata": {},
   "source": [
    "Now we do the exact same thing for $Good$ $Blood$ $Circulation$."
   ]
  },
  {
   "cell_type": "code",
   "execution_count": 32,
   "metadata": {},
   "outputs": [],
   "source": [
    "# add a decision tree of the root node # Good blood circulation:"
   ]
  },
  {
   "cell_type": "markdown",
   "metadata": {},
   "source": [
    "Lastly , we look at how $Blocked$ $Arteries$ separates the patients with and without $Heart$ $Disease$:"
   ]
  },
  {
   "cell_type": "code",
   "execution_count": 33,
   "metadata": {},
   "outputs": [],
   "source": [
    "# add a decision tree of the root node $Blocked$ $Arteries$"
   ]
  },
  {
   "cell_type": "markdown",
   "metadata": {},
   "source": [
    "Since we don't know if this patient has $Blocked$ $Arteries$ or not , we will skip it."
   ]
  },
  {
   "cell_type": "markdown",
   "metadata": {},
   "source": [
    "Remember the goal is to decide whether $Chest$ $Pain$ , $Good$ $Blood$ $Circulation$ and $Blocked$ $Arteries$ should be the First thing in our decision tree($Root$ $Node$)."
   ]
  },
  {
   "cell_type": "markdown",
   "metadata": {},
   "source": [
    "So we looked at how well $Chest$ $Pain$ separated patients with and without $Heart$ $Disease$. it did OK , but was not perfect."
   ]
  },
  {
   "cell_type": "markdown",
   "metadata": {},
   "source": [
    "Most of the patients with $Heart$ $Disease$ ended up in this leaf node($Left$ $Leaf$)."
   ]
  },
  {
   "cell_type": "markdown",
   "metadata": {},
   "source": [
    "and Most of the patients without $Heart$ $Disease$ ended up in this leaf node ($Right$ $Leaf$)"
   ]
  },
  {
   "cell_type": "markdown",
   "metadata": {},
   "source": [
    "Then we looked at how well $Good$ $Blood$ $Circulation$ separated patients with and without $Heart$ $Disease$. If was not perfect either."
   ]
  },
  {
   "cell_type": "markdown",
   "metadata": {},
   "source": [
    "Lastly , we looked at how well $Blocked$ $Arteries$ separated patients with and without $Heart$ $Disease$."
   ]
  },
  {
   "cell_type": "markdown",
   "metadata": {},
   "source": [
    "$Note-$ The total number of patients with $Heart$ $Disease$ is different for $Chest$ $Pain$, $Good$ $Blood$ $Circulation$ and $Blocked$ $Arteries$ , because some patients had measurements for $Chest$ $Pain$ but not for $Blocked$ $Arteries$ etc."
   ]
  },
  {
   "cell_type": "markdown",
   "metadata": {},
   "source": [
    "Because none of the leaf nodes are $100$% $Yes$ $Heart$ $Disease$ or $100$% $No$ $Heart$ $Disease$, they are all considered $Impure$."
   ]
  },
  {
   "cell_type": "markdown",
   "metadata": {},
   "source": [
    "To Determine which separation is best , we need to a way to measure and compare $Impurity$."
   ]
  },
  {
   "cell_type": "markdown",
   "metadata": {},
   "source": [
    "There are a bunch of ways to measure $Impurity$ , but i am  just going to focus on a very popular on called $Gini$. "
   ]
  },
  {
   "cell_type": "markdown",
   "metadata": {},
   "source": [
    "To be honest , I do not know why it's called $Gini$. "
   ]
  },
  {
   "cell_type": "markdown",
   "metadata": {},
   "source": [
    "To calculate $Gini$ $Impurity$ is easy."
   ]
  },
  {
   "cell_type": "markdown",
   "metadata": {},
   "source": [
    "$1-$ $Chest$ $Impurity$ :"
   ]
  },
  {
   "cell_type": "markdown",
   "metadata": {},
   "source": [
    "let's calculating $Gini$ $Impurity$ for $Chest$ $Pain$."
   ]
  },
  {
   "cell_type": "markdown",
   "metadata": {},
   "source": [
    "For leaf on the $Left$."
   ]
  },
  {
   "cell_type": "markdown",
   "metadata": {},
   "source": [
    "\\begin{equation}\n",
    "Gini Impurity = 1 - (probability of 'Yes')^{2} - (probability of 'No')^{2}\n",
    "\\end{equation}"
   ]
  },
  {
   "cell_type": "markdown",
   "metadata": {},
   "source": [
    "\\begin{equation}\n",
    " = 1 - (\\frac{105}{105 + 39})^{2} - (\\frac{39}{105+39})^{2}\n",
    "\\end{equation}"
   ]
  },
  {
   "cell_type": "markdown",
   "metadata": {},
   "source": [
    "\\begin{equation}\n",
    " = 0.395\n",
    "\\end{equation}"
   ]
  },
  {
   "cell_type": "markdown",
   "metadata": {},
   "source": [
    "For leaf on the $Right$."
   ]
  },
  {
   "cell_type": "markdown",
   "metadata": {},
   "source": [
    "\\begin{equation}\n",
    "Gini Impurity = 1 - (probability of 'Yes')^{2} - (probability of 'No')^{2}\n",
    "\\end{equation}"
   ]
  },
  {
   "cell_type": "markdown",
   "metadata": {},
   "source": [
    "\\begin{equation}\n",
    " = 1 - (\\frac{34}{125+34})^{2} - (\\frac{125}{125+34})^{2}\n",
    "\\end{equation}"
   ]
  },
  {
   "cell_type": "markdown",
   "metadata": {},
   "source": [
    "\\begin{equation}\n",
    " = 0.336\n",
    "\\end{equation}"
   ]
  },
  {
   "cell_type": "markdown",
   "metadata": {},
   "source": [
    "Now that we have measured the $Gini$ $Impurity$ for both leaf nodes, we can calculate the total $Gini$ $Impurity$ for using $Chest$ $Pain$ to separate patients with and without $Heart$ $Disease$."
   ]
  },
  {
   "cell_type": "markdown",
   "metadata": {},
   "source": [
    "Because leaf on the $Left$ represents $144$ patients and leaf on the $Right$ represents $159$ patients."
   ]
  },
  {
   "cell_type": "markdown",
   "metadata": {},
   "source": [
    "the leaf nodes do not represent the same number of patients."
   ]
  },
  {
   "cell_type": "markdown",
   "metadata": {},
   "source": [
    "Thus , the total $Gini$ $Impurity$ for using $Chest$ $Pain$ to separate patients with and without $Heart$ $Disease$ is the $Weighted$ $Average$ $Of$ $Leaf$ $Node$ $Impurity$. "
   ]
  },
  {
   "cell_type": "markdown",
   "metadata": {},
   "source": [
    "\\begin{equation}\n",
    "Gini Impurity For Chest Pain =  Weighted Average Of Gini Impurities Leaf Node Impurity \n",
    "\\end{equation}"
   ]
  },
  {
   "cell_type": "markdown",
   "metadata": {},
   "source": [
    "\\begin{equation}\n",
    "= (\\frac{144}{144 + 159})*0.395  +(\\frac{159}{144+159})*0.336\n",
    "\\end{equation}"
   ]
  },
  {
   "cell_type": "markdown",
   "metadata": {},
   "source": [
    "\\begin{equation}\n",
    " = 0.364\n",
    "\\end{equation}"
   ]
  },
  {
   "cell_type": "markdown",
   "metadata": {},
   "source": [
    "$2-$ $Good$ $Blood$ $Circulation$."
   ]
  },
  {
   "cell_type": "markdown",
   "metadata": {},
   "source": [
    "let's calculating $Gini$ $Impurity$ for  $Good$ $Blood$ $Circulation$."
   ]
  },
  {
   "cell_type": "markdown",
   "metadata": {},
   "source": [
    "For leaf on the $Left$."
   ]
  },
  {
   "cell_type": "markdown",
   "metadata": {},
   "source": [
    "\\begin{equation}\n",
    "Gini Impurity = 1 - (probability of 'Yes')^{2} - (probability of 'No')^{2}\n",
    "\\end{equation}"
   ]
  },
  {
   "cell_type": "markdown",
   "metadata": {},
   "source": [
    "\\begin{equation}\n",
    "= 1 - (\\frac{37}{37+127})^{2} - (\\frac{127}{37+127})^{2}\n",
    "\\end{equation}"
   ]
  },
  {
   "cell_type": "markdown",
   "metadata": {},
   "source": [
    "\\begin{equation}\n",
    " = 0.3494\n",
    "\\end{equation}"
   ]
  },
  {
   "cell_type": "markdown",
   "metadata": {},
   "source": [
    "For leaf on the $Right$."
   ]
  },
  {
   "cell_type": "markdown",
   "metadata": {},
   "source": [
    "\\begin{equation}\n",
    "Gini Impurity = 1 - (probability of 'Yes')^{2} - (probability of 'No')^{2}\n",
    "\\end{equation}"
   ]
  },
  {
   "cell_type": "markdown",
   "metadata": {},
   "source": [
    "\\begin{equation}\n",
    "= 1 - (\\frac{100}{100+33})^{2} - (\\frac{33}{100+33})^{2}\n",
    "\\end{equation}"
   ]
  },
  {
   "cell_type": "markdown",
   "metadata": {},
   "source": [
    "\\begin{equation}\n",
    "= 0.373\n",
    "\\end{equation}"
   ]
  },
  {
   "cell_type": "markdown",
   "metadata": {},
   "source": [
    "Now that we have measured the $Gini$ $Impurity$ for both leaf nodes, we can calculate the total $Gini$ $Impurity$ for using $Good$ $Blood$ $Circulation$ to separate patients with and without $Heart$ $Disease$."
   ]
  },
  {
   "cell_type": "markdown",
   "metadata": {},
   "source": [
    "Because leaf on the $Left$ represents $164$ patients and leaf on the $Right$ represents $133$ patients."
   ]
  },
  {
   "cell_type": "markdown",
   "metadata": {},
   "source": [
    "the leaf nodes do not represent the same number of patients."
   ]
  },
  {
   "cell_type": "markdown",
   "metadata": {},
   "source": [
    "Thus , the total $Gini$ $Impurity$ for using $Good$ $Blood$ $Circulation$ to separate patients with and without $Heart$ $Disease$ is the $Weighted$ $Average$ $Of$ $Leaf$ $Node$ $Impurity$. "
   ]
  },
  {
   "cell_type": "markdown",
   "metadata": {},
   "source": [
    "\\begin{equation}\n",
    "Gini Impurity For Good Blood Circulation =  Weighted Average Of Gini Impurities Leaf Node Impurity \n",
    "\\end{equation}"
   ]
  },
  {
   "cell_type": "markdown",
   "metadata": {},
   "source": [
    "\\begin{equation}\n",
    "= (\\frac{164}{164+133})*0.349 + (\\frac{133}{164+133})*0.373\n",
    "\\end{equation}"
   ]
  },
  {
   "cell_type": "markdown",
   "metadata": {},
   "source": [
    "\\begin{equation}\n",
    "= 0.3597\n",
    "\\end{equation}"
   ]
  },
  {
   "cell_type": "markdown",
   "metadata": {},
   "source": [
    "$3-$ $Blocked$ $Arteries$:"
   ]
  },
  {
   "cell_type": "markdown",
   "metadata": {},
   "source": [
    "let's calculating $Gini$ $Impurity$ for $Blocked$ $Arteries$. "
   ]
  },
  {
   "cell_type": "markdown",
   "metadata": {},
   "source": [
    "For leaf on the $Left$."
   ]
  },
  {
   "cell_type": "markdown",
   "metadata": {},
   "source": [
    "\\begin{equation}\n",
    "Gini Impurity = 1 - (probability of 'Yes')^{2} - (probability of 'No')^{2}\n",
    "\\end{equation}"
   ]
  },
  {
   "cell_type": "markdown",
   "metadata": {},
   "source": [
    "\\begin{equation}\n",
    "= 1 - (\\frac{92}{92+31})^{2} - (\\frac{31}{92+31})^{2}\n",
    "\\end{equation}"
   ]
  },
  {
   "cell_type": "markdown",
   "metadata": {},
   "source": [
    "\\begin{equation}\n",
    "= 0.377\n",
    "\\end{equation}"
   ]
  },
  {
   "cell_type": "markdown",
   "metadata": {},
   "source": [
    "For leaf on the $Right$."
   ]
  },
  {
   "cell_type": "markdown",
   "metadata": {},
   "source": [
    "\\begin{equation}\n",
    "Gini Impurity = 1 - (probability of 'Yes')^{2} - (probability of 'No')^{2}\n",
    "\\end{equation}"
   ]
  },
  {
   "cell_type": "markdown",
   "metadata": {},
   "source": [
    "\\begin{equation}\n",
    "= 1 - (\\frac{45}{45+129})^{2} - (\\frac{129}{45+129})^{2}\n",
    "\\end{equation}"
   ]
  },
  {
   "cell_type": "markdown",
   "metadata": {},
   "source": [
    "\\begin{equation}\n",
    "= 0.383\n",
    "\\end{equation}"
   ]
  },
  {
   "cell_type": "markdown",
   "metadata": {},
   "source": [
    "Now that we have measured the $Gini$ $Impurity$ for both leaf nodes, we can calculate the total $Gini$ $Impurity$ for using $Blocked$ $Arteries$ to separate patients with and without $Heart$ $Disease$."
   ]
  },
  {
   "cell_type": "markdown",
   "metadata": {},
   "source": [
    "Because leaf on the $Left$ represents $123$ patients and leaf on the $Right$ represents $174$ patients."
   ]
  },
  {
   "cell_type": "markdown",
   "metadata": {},
   "source": [
    "the leaf nodes do not represent the same number of patients."
   ]
  },
  {
   "cell_type": "markdown",
   "metadata": {},
   "source": [
    "Thus , the total $Gini$ $Impurity$ for using $Blocked$ $Arteries$ to separate patients with and without $Heart$ $Disease$ is the $Weighted$ $Average$ $Of$ $Leaf$ $Node$ $Impurity$. "
   ]
  },
  {
   "cell_type": "markdown",
   "metadata": {},
   "source": [
    "\\begin{equation}\n",
    "Gini Impurity For Blocked  Arteries =  Weighted Average Of Gini Impurities Leaf Node Impurity \n",
    "\\end{equation}"
   ]
  },
  {
   "cell_type": "markdown",
   "metadata": {},
   "source": [
    "\\begin{equation}\n",
    "=(\\frac{123}{123+174})*0.377 + (\\frac{174}{123+174})*0.383\n",
    "\\end{equation}"
   ]
  },
  {
   "cell_type": "markdown",
   "metadata": {},
   "source": [
    "\\begin{equation}\n",
    "= 0.3805\n",
    "\\end{equation}"
   ]
  },
  {
   "cell_type": "markdown",
   "metadata": {},
   "source": [
    "$Good$ $Blood$ $Circulation$ has the lowest $Impurity$ (it separates patients with and without $Heart$ $Disease$ the best)."
   ]
  },
  {
   "cell_type": "markdown",
   "metadata": {},
   "source": [
    "so we will use it at the root of the tree."
   ]
  },
  {
   "cell_type": "code",
   "execution_count": 38,
   "metadata": {},
   "outputs": [],
   "source": [
    "# add the image of the $good$ blood circulation as root node:"
   ]
  },
  {
   "cell_type": "markdown",
   "metadata": {},
   "source": [
    "When we divided all of the patients using $Good$ $Blood$ $Circulation$ , we ended up with $Impuity$ leaf node."
   ]
  },
  {
   "cell_type": "markdown",
   "metadata": {},
   "source": [
    "Each leaf contained a mixture of patients with and without $Heart$ $Disease$."
   ]
  },
  {
   "cell_type": "markdown",
   "metadata": {},
   "source": [
    "That means the $164$ patients with and without $Heart$ $Disease$ that ended up in the leaf on the $Left$. are now in this node in the tree."
   ]
  },
  {
   "cell_type": "markdown",
   "metadata": {},
   "source": [
    "and the $133$ patients with and without $Heart$ $Disease$ that ended up in the leaf on the $Right$. are now in this node in the tree."
   ]
  },
  {
   "cell_type": "code",
   "execution_count": 39,
   "metadata": {},
   "outputs": [],
   "source": [
    "# add the image of the first root node with two leaf node :"
   ]
  },
  {
   "cell_type": "code",
   "execution_count": null,
   "metadata": {},
   "outputs": [],
   "source": []
  }
 ],
 "metadata": {
  "kernelspec": {
   "display_name": "Python 3",
   "language": "python",
   "name": "python3"
  },
  "language_info": {
   "codemirror_mode": {
    "name": "ipython",
    "version": 3
   },
   "file_extension": ".py",
   "mimetype": "text/x-python",
   "name": "python",
   "nbconvert_exporter": "python",
   "pygments_lexer": "ipython3",
   "version": "3.7.3"
  }
 },
 "nbformat": 4,
 "nbformat_minor": 2
}
