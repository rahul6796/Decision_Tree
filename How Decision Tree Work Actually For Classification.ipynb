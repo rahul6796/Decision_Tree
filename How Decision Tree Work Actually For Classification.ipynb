{
 "cells": [
  {
   "cell_type": "markdown",
   "metadata": {},
   "source": [
    "# How Decision Tree Works Actually For Classification:"
   ]
  },
  {
   "cell_type": "markdown",
   "metadata": {},
   "source": [
    "Now we are ready talk about how to go from a raw table of data."
   ]
  },
  {
   "cell_type": "code",
   "execution_count": 1,
   "metadata": {},
   "outputs": [],
   "source": [
    "import pandas as pd"
   ]
  },
  {
   "cell_type": "code",
   "execution_count": 2,
   "metadata": {},
   "outputs": [],
   "source": [
    "data = pd.DataFrame()"
   ]
  },
  {
   "cell_type": "code",
   "execution_count": 3,
   "metadata": {},
   "outputs": [],
   "source": [
    "data['Chest Pain'] = ['No','Yes','Yes','Yes','etc..']"
   ]
  },
  {
   "cell_type": "code",
   "execution_count": 4,
   "metadata": {},
   "outputs": [],
   "source": [
    "data['Good Blood Circulation'] = ['No','Yes','Yes','No','etc..']"
   ]
  },
  {
   "cell_type": "code",
   "execution_count": 5,
   "metadata": {},
   "outputs": [],
   "source": [
    "data['Blocked Arteries'] = ['No', 'Yes','No','???','etc..']"
   ]
  },
  {
   "cell_type": "code",
   "execution_count": 6,
   "metadata": {},
   "outputs": [],
   "source": [
    "data['Heart Disease'] = ['No','Yes','No','Yes','etc..']"
   ]
  },
  {
   "cell_type": "code",
   "execution_count": 7,
   "metadata": {},
   "outputs": [
    {
     "data": {
      "text/html": [
       "<div>\n",
       "<style scoped>\n",
       "    .dataframe tbody tr th:only-of-type {\n",
       "        vertical-align: middle;\n",
       "    }\n",
       "\n",
       "    .dataframe tbody tr th {\n",
       "        vertical-align: top;\n",
       "    }\n",
       "\n",
       "    .dataframe thead th {\n",
       "        text-align: right;\n",
       "    }\n",
       "</style>\n",
       "<table border=\"1\" class=\"dataframe\">\n",
       "  <thead>\n",
       "    <tr style=\"text-align: right;\">\n",
       "      <th></th>\n",
       "      <th>Chest Pain</th>\n",
       "      <th>Good Blood Circulation</th>\n",
       "      <th>Blocked Arteries</th>\n",
       "      <th>Heart Disease</th>\n",
       "    </tr>\n",
       "  </thead>\n",
       "  <tbody>\n",
       "    <tr>\n",
       "      <th>0</th>\n",
       "      <td>No</td>\n",
       "      <td>No</td>\n",
       "      <td>No</td>\n",
       "      <td>No</td>\n",
       "    </tr>\n",
       "    <tr>\n",
       "      <th>1</th>\n",
       "      <td>Yes</td>\n",
       "      <td>Yes</td>\n",
       "      <td>Yes</td>\n",
       "      <td>Yes</td>\n",
       "    </tr>\n",
       "    <tr>\n",
       "      <th>2</th>\n",
       "      <td>Yes</td>\n",
       "      <td>Yes</td>\n",
       "      <td>No</td>\n",
       "      <td>No</td>\n",
       "    </tr>\n",
       "    <tr>\n",
       "      <th>3</th>\n",
       "      <td>Yes</td>\n",
       "      <td>No</td>\n",
       "      <td>???</td>\n",
       "      <td>Yes</td>\n",
       "    </tr>\n",
       "    <tr>\n",
       "      <th>4</th>\n",
       "      <td>etc..</td>\n",
       "      <td>etc..</td>\n",
       "      <td>etc..</td>\n",
       "      <td>etc..</td>\n",
       "    </tr>\n",
       "  </tbody>\n",
       "</table>\n",
       "</div>"
      ],
      "text/plain": [
       "  Chest Pain Good Blood Circulation Blocked Arteries Heart Disease\n",
       "0         No                     No               No            No\n",
       "1        Yes                    Yes              Yes           Yes\n",
       "2        Yes                    Yes               No            No\n",
       "3        Yes                     No              ???           Yes\n",
       "4      etc..                  etc..            etc..         etc.."
      ]
     },
     "execution_count": 7,
     "metadata": {},
     "output_type": "execute_result"
    }
   ],
   "source": [
    "data.head()"
   ]
  },
  {
   "cell_type": "markdown",
   "metadata": {},
   "source": [
    "to a decision tree."
   ]
  },
  {
   "cell_type": "code",
   "execution_count": 8,
   "metadata": {},
   "outputs": [],
   "source": [
    "# add a simple decision tree image:"
   ]
  },
  {
   "cell_type": "markdown",
   "metadata": {},
   "source": [
    "In this example, we want to create a tree that uses $Chest$ $Pain$, $Good$ $Blood$ $Circulation$, and $Blocked$ $Arteries$ to predict , Whether  or not  a patient has $Heart$ $Disease$."
   ]
  },
  {
   "cell_type": "markdown",
   "metadata": {},
   "source": [
    "The First thing we want to know is whether $Chest$ $Pain$, $Good$ $Blood$ $Circulation$, and $Blocked$ $Arteries$ should be at the very top of our tree."
   ]
  },
  {
   "cell_type": "markdown",
   "metadata": {},
   "source": [
    "We start by looking at How will $Chest$ $Pain$ to predict $Heart$ $Disease$. "
   ]
  },
  {
   "cell_type": "markdown",
   "metadata": {},
   "source": [
    "The  First patient does not have $Chest$ $Pain$ and does not have $Heart$ $Disease$."
   ]
  },
  {
   "cell_type": "markdown",
   "metadata": {},
   "source": [
    "The Second patient has $Chest$ $Pain$ and $Heart$ $Disease$."
   ]
  },
  {
   "cell_type": "markdown",
   "metadata": {},
   "source": [
    "The Third patient has $Chest$ $Pain$ but does not have $Heart$ $Disease$."
   ]
  },
  {
   "cell_type": "markdown",
   "metadata": {},
   "source": [
    "The Fourth patient has $Chest$ $Pain$ and $Heart$ $Disease$."
   ]
  },
  {
   "cell_type": "markdown",
   "metadata": {},
   "source": [
    "Ultimately , we look at $Chest$ $Pain$ and $Heart$ $Disease$ for all $303$ patient into this study."
   ]
  },
  {
   "cell_type": "code",
   "execution_count": 9,
   "metadata": {},
   "outputs": [],
   "source": [
    "# add a decision tree of the root node $Chest$ $PAin$:"
   ]
  },
  {
   "cell_type": "markdown",
   "metadata": {},
   "source": [
    "Now we do the exact same thing for $Good$ $Blood$ $Circulation$."
   ]
  },
  {
   "cell_type": "code",
   "execution_count": 10,
   "metadata": {},
   "outputs": [],
   "source": [
    "# add a decision tree of the root node # Good blood circulation:"
   ]
  },
  {
   "cell_type": "markdown",
   "metadata": {},
   "source": [
    "Lastly , we look at how $Blocked$ $Arteries$ separates the patients with and without $Heart$ $Disease$:"
   ]
  },
  {
   "cell_type": "code",
   "execution_count": 11,
   "metadata": {},
   "outputs": [],
   "source": [
    "# add a decision tree of the root node $Blocked$ $Arteries$"
   ]
  },
  {
   "cell_type": "markdown",
   "metadata": {},
   "source": [
    "Since we don't know if this patient has $Blocked$ $Arteries$ or not , we will skip it."
   ]
  },
  {
   "cell_type": "markdown",
   "metadata": {},
   "source": [
    "Remember the goal is to decide whether $Chest$ $Pain$ , $Good$ $Blood$ $Circulation$ and $Blocked$ $Arteries$ should be the First thing in our decision tree($Root$ $Node$)."
   ]
  },
  {
   "cell_type": "markdown",
   "metadata": {},
   "source": [
    "So we looked at how well $Chest$ $Pain$ separated patients with and without $Heart$ $Disease$. it did OK , but was not perfect."
   ]
  },
  {
   "cell_type": "markdown",
   "metadata": {},
   "source": [
    "Most of the patients with $Heart$ $Disease$ ended up in this leaf node($Left$ $Leaf$)."
   ]
  },
  {
   "cell_type": "markdown",
   "metadata": {},
   "source": [
    "and Most of the patients without $Heart$ $Disease$ ended up in this leaf node ($Right$ $Leaf$)"
   ]
  },
  {
   "cell_type": "markdown",
   "metadata": {},
   "source": [
    "Then we looked at how well $Good$ $Blood$ $Circulation$ separated patients with and without $Heart$ $Disease$. If was not perfect either."
   ]
  },
  {
   "cell_type": "markdown",
   "metadata": {},
   "source": [
    "Lastly , we looked at how well $Blocked$ $Arteries$ separated patients with and without $Heart$ $Disease$."
   ]
  },
  {
   "cell_type": "markdown",
   "metadata": {},
   "source": [
    "$Note-$ The total number of patients with $Heart$ $Disease$ is different for $Chest$ $Pain$, $Good$ $Blood$ $Circulation$ and $Blocked$ $Arteries$ , because some patients had measurements for $Chest$ $Pain$ but not for $Blocked$ $Arteries$ etc."
   ]
  },
  {
   "cell_type": "markdown",
   "metadata": {},
   "source": [
    "Because none of the leaf nodes are $100$% $Yes$ $Heart$ $Disease$ or $100$% $No$ $Heart$ $Disease$, they are all considered $Impure$."
   ]
  },
  {
   "cell_type": "markdown",
   "metadata": {},
   "source": [
    "To Determine which separation is best , we need to a way to measure and compare $Impurity$."
   ]
  },
  {
   "cell_type": "markdown",
   "metadata": {},
   "source": [
    "There are a bunch of ways to measure $Impurity$ , but i am  just going to focus on a very popular on called $Gini$. "
   ]
  },
  {
   "cell_type": "markdown",
   "metadata": {},
   "source": [
    "To be honest , I do not know why it's called $Gini$. "
   ]
  },
  {
   "cell_type": "markdown",
   "metadata": {},
   "source": [
    "To calculate $Gini$ $Impurity$ is easy."
   ]
  },
  {
   "cell_type": "markdown",
   "metadata": {},
   "source": [
    "$1-$ $Chest$ $Impurity$ :"
   ]
  },
  {
   "cell_type": "markdown",
   "metadata": {},
   "source": [
    "let's calculating $Gini$ $Impurity$ for $Chest$ $Pain$."
   ]
  },
  {
   "cell_type": "markdown",
   "metadata": {},
   "source": [
    "For leaf on the $Left$."
   ]
  },
  {
   "cell_type": "markdown",
   "metadata": {},
   "source": [
    "\\begin{equation}\n",
    "Gini Impurity = 1 - (probability of 'Yes')^{2} - (probability of 'No')^{2}\n",
    "\\end{equation}"
   ]
  },
  {
   "cell_type": "markdown",
   "metadata": {},
   "source": [
    "\\begin{equation}\n",
    " = 1 - (\\frac{105}{105 + 39})^{2} - (\\frac{39}{105+39})^{2}\n",
    "\\end{equation}"
   ]
  },
  {
   "cell_type": "markdown",
   "metadata": {},
   "source": [
    "\\begin{equation}\n",
    " = 0.395\n",
    "\\end{equation}"
   ]
  },
  {
   "cell_type": "markdown",
   "metadata": {},
   "source": [
    "For leaf on the $Right$."
   ]
  },
  {
   "cell_type": "markdown",
   "metadata": {},
   "source": [
    "\\begin{equation}\n",
    "Gini Impurity = 1 - (probability of 'Yes')^{2} - (probability of 'No')^{2}\n",
    "\\end{equation}"
   ]
  },
  {
   "cell_type": "markdown",
   "metadata": {},
   "source": [
    "\\begin{equation}\n",
    " = 1 - (\\frac{34}{125+34})^{2} - (\\frac{125}{125+34})^{2}\n",
    "\\end{equation}"
   ]
  },
  {
   "cell_type": "markdown",
   "metadata": {},
   "source": [
    "\\begin{equation}\n",
    " = 0.336\n",
    "\\end{equation}"
   ]
  },
  {
   "cell_type": "markdown",
   "metadata": {},
   "source": [
    "Now that we have measured the $Gini$ $Impurity$ for both leaf nodes, we can calculate the total $Gini$ $Impurity$ for using $Chest$ $Pain$ to separate patients with and without $Heart$ $Disease$."
   ]
  },
  {
   "cell_type": "markdown",
   "metadata": {},
   "source": [
    "Because leaf on the $Left$ represents $144$ patients and leaf on the $Right$ represents $159$ patients."
   ]
  },
  {
   "cell_type": "markdown",
   "metadata": {},
   "source": [
    "the leaf nodes do not represent the same number of patients."
   ]
  },
  {
   "cell_type": "markdown",
   "metadata": {},
   "source": [
    "Thus , the total $Gini$ $Impurity$ for using $Chest$ $Pain$ to separate patients with and without $Heart$ $Disease$ is the $Weighted$ $Average$ $Of$ $Leaf$ $Node$ $Impurity$. "
   ]
  },
  {
   "cell_type": "markdown",
   "metadata": {},
   "source": [
    "\\begin{equation}\n",
    "Gini Impurity For Chest Pain =  Weighted Average Of Gini Impurities Leaf Node Impurity \n",
    "\\end{equation}"
   ]
  },
  {
   "cell_type": "markdown",
   "metadata": {},
   "source": [
    "\\begin{equation}\n",
    "= (\\frac{144}{144 + 159})*0.395  +(\\frac{159}{144+159})*0.336\n",
    "\\end{equation}"
   ]
  },
  {
   "cell_type": "markdown",
   "metadata": {},
   "source": [
    "\\begin{equation}\n",
    " = 0.364\n",
    "\\end{equation}"
   ]
  },
  {
   "cell_type": "markdown",
   "metadata": {},
   "source": [
    "$2-$ $Good$ $Blood$ $Circulation$."
   ]
  },
  {
   "cell_type": "markdown",
   "metadata": {},
   "source": [
    "let's calculating $Gini$ $Impurity$ for  $Good$ $Blood$ $Circulation$."
   ]
  },
  {
   "cell_type": "markdown",
   "metadata": {},
   "source": [
    "For leaf on the $Left$."
   ]
  },
  {
   "cell_type": "markdown",
   "metadata": {},
   "source": [
    "\\begin{equation}\n",
    "Gini Impurity = 1 - (probability of 'Yes')^{2} - (probability of 'No')^{2}\n",
    "\\end{equation}"
   ]
  },
  {
   "cell_type": "markdown",
   "metadata": {},
   "source": [
    "\\begin{equation}\n",
    "= 1 - (\\frac{37}{37+127})^{2} - (\\frac{127}{37+127})^{2}\n",
    "\\end{equation}"
   ]
  },
  {
   "cell_type": "markdown",
   "metadata": {},
   "source": [
    "\\begin{equation}\n",
    " = 0.3494\n",
    "\\end{equation}"
   ]
  },
  {
   "cell_type": "markdown",
   "metadata": {},
   "source": [
    "For leaf on the $Right$."
   ]
  },
  {
   "cell_type": "markdown",
   "metadata": {},
   "source": [
    "\\begin{equation}\n",
    "Gini Impurity = 1 - (probability of 'Yes')^{2} - (probability of 'No')^{2}\n",
    "\\end{equation}"
   ]
  },
  {
   "cell_type": "markdown",
   "metadata": {},
   "source": [
    "\\begin{equation}\n",
    "= 1 - (\\frac{100}{100+33})^{2} - (\\frac{33}{100+33})^{2}\n",
    "\\end{equation}"
   ]
  },
  {
   "cell_type": "markdown",
   "metadata": {},
   "source": [
    "\\begin{equation}\n",
    "= 0.373\n",
    "\\end{equation}"
   ]
  },
  {
   "cell_type": "markdown",
   "metadata": {},
   "source": [
    "Now that we have measured the $Gini$ $Impurity$ for both leaf nodes, we can calculate the total $Gini$ $Impurity$ for using $Good$ $Blood$ $Circulation$ to separate patients with and without $Heart$ $Disease$."
   ]
  },
  {
   "cell_type": "markdown",
   "metadata": {},
   "source": [
    "Because leaf on the $Left$ represents $164$ patients and leaf on the $Right$ represents $133$ patients."
   ]
  },
  {
   "cell_type": "markdown",
   "metadata": {},
   "source": [
    "the leaf nodes do not represent the same number of patients."
   ]
  },
  {
   "cell_type": "markdown",
   "metadata": {},
   "source": [
    "Thus , the total $Gini$ $Impurity$ for using $Good$ $Blood$ $Circulation$ to separate patients with and without $Heart$ $Disease$ is the $Weighted$ $Average$ $Of$ $Leaf$ $Node$ $Impurity$. "
   ]
  },
  {
   "cell_type": "markdown",
   "metadata": {},
   "source": [
    "\\begin{equation}\n",
    "Gini Impurity For Good Blood Circulation =  Weighted Average Of Gini Impurities Leaf Node Impurity \n",
    "\\end{equation}"
   ]
  },
  {
   "cell_type": "markdown",
   "metadata": {},
   "source": [
    "\\begin{equation}\n",
    "= (\\frac{164}{164+133})*0.349 + (\\frac{133}{164+133})*0.373\n",
    "\\end{equation}"
   ]
  },
  {
   "cell_type": "markdown",
   "metadata": {},
   "source": [
    "\\begin{equation}\n",
    "= 0.3597\n",
    "\\end{equation}"
   ]
  },
  {
   "cell_type": "markdown",
   "metadata": {},
   "source": [
    "$3-$ $Blocked$ $Arteries$:"
   ]
  },
  {
   "cell_type": "markdown",
   "metadata": {},
   "source": [
    "let's calculating $Gini$ $Impurity$ for $Blocked$ $Arteries$. "
   ]
  },
  {
   "cell_type": "markdown",
   "metadata": {},
   "source": [
    "For leaf on the $Left$."
   ]
  },
  {
   "cell_type": "markdown",
   "metadata": {},
   "source": [
    "\\begin{equation}\n",
    "Gini Impurity = 1 - (probability of 'Yes')^{2} - (probability of 'No')^{2}\n",
    "\\end{equation}"
   ]
  },
  {
   "cell_type": "markdown",
   "metadata": {},
   "source": [
    "\\begin{equation}\n",
    "= 1 - (\\frac{92}{92+31})^{2} - (\\frac{31}{92+31})^{2}\n",
    "\\end{equation}"
   ]
  },
  {
   "cell_type": "markdown",
   "metadata": {},
   "source": [
    "\\begin{equation}\n",
    "= 0.377\n",
    "\\end{equation}"
   ]
  },
  {
   "cell_type": "markdown",
   "metadata": {},
   "source": [
    "For leaf on the $Right$."
   ]
  },
  {
   "cell_type": "markdown",
   "metadata": {},
   "source": [
    "\\begin{equation}\n",
    "Gini Impurity = 1 - (probability of 'Yes')^{2} - (probability of 'No')^{2}\n",
    "\\end{equation}"
   ]
  },
  {
   "cell_type": "markdown",
   "metadata": {},
   "source": [
    "\\begin{equation}\n",
    "= 1 - (\\frac{45}{45+129})^{2} - (\\frac{129}{45+129})^{2}\n",
    "\\end{equation}"
   ]
  },
  {
   "cell_type": "markdown",
   "metadata": {},
   "source": [
    "\\begin{equation}\n",
    "= 0.383\n",
    "\\end{equation}"
   ]
  },
  {
   "cell_type": "markdown",
   "metadata": {},
   "source": [
    "Now that we have measured the $Gini$ $Impurity$ for both leaf nodes, we can calculate the total $Gini$ $Impurity$ for using $Blocked$ $Arteries$ to separate patients with and without $Heart$ $Disease$."
   ]
  },
  {
   "cell_type": "markdown",
   "metadata": {},
   "source": [
    "Because leaf on the $Left$ represents $123$ patients and leaf on the $Right$ represents $174$ patients."
   ]
  },
  {
   "cell_type": "markdown",
   "metadata": {},
   "source": [
    "the leaf nodes do not represent the same number of patients."
   ]
  },
  {
   "cell_type": "markdown",
   "metadata": {},
   "source": [
    "Thus , the total $Gini$ $Impurity$ for using $Blocked$ $Arteries$ to separate patients with and without $Heart$ $Disease$ is the $Weighted$ $Average$ $Of$ $Leaf$ $Node$ $Impurity$. "
   ]
  },
  {
   "cell_type": "markdown",
   "metadata": {},
   "source": [
    "\\begin{equation}\n",
    "Gini Impurity For Blocked  Arteries =  Weighted Average Of Gini Impurities Leaf Node Impurity \n",
    "\\end{equation}"
   ]
  },
  {
   "cell_type": "markdown",
   "metadata": {},
   "source": [
    "\\begin{equation}\n",
    "=(\\frac{123}{123+174})*0.377 + (\\frac{174}{123+174})*0.383\n",
    "\\end{equation}"
   ]
  },
  {
   "cell_type": "markdown",
   "metadata": {},
   "source": [
    "\\begin{equation}\n",
    "= 0.3805\n",
    "\\end{equation}"
   ]
  },
  {
   "cell_type": "markdown",
   "metadata": {},
   "source": [
    "$Good$ $Blood$ $Circulation$ has the lowest $Impurity$ (it separates patients with and without $Heart$ $Disease$ the best)."
   ]
  },
  {
   "cell_type": "markdown",
   "metadata": {},
   "source": [
    "so we will use it at the root of the tree."
   ]
  },
  {
   "cell_type": "code",
   "execution_count": 12,
   "metadata": {},
   "outputs": [],
   "source": [
    "# add the image of the $good$ blood circulation as root node:"
   ]
  },
  {
   "cell_type": "markdown",
   "metadata": {},
   "source": [
    "When we divided all of the patients using $Good$ $Blood$ $Circulation$ , we ended up with $Impuity$ leaf node."
   ]
  },
  {
   "cell_type": "markdown",
   "metadata": {},
   "source": [
    "Each leaf contained a mixture of patients with and without $Heart$ $Disease$."
   ]
  },
  {
   "cell_type": "markdown",
   "metadata": {},
   "source": [
    "That means the $164$ patients with and without $Heart$ $Disease$ that ended up in the leaf on the $Left$. are now in this node in the tree."
   ]
  },
  {
   "cell_type": "markdown",
   "metadata": {},
   "source": [
    "and the $133$ patients with and without $Heart$ $Disease$ that ended up in the leaf on the $Right$. are now in this node in the tree."
   ]
  },
  {
   "cell_type": "code",
   "execution_count": 14,
   "metadata": {},
   "outputs": [],
   "source": [
    "# add the image of the first root node with two leaf node  for fixed there values:"
   ]
  },
  {
   "cell_type": "markdown",
   "metadata": {},
   "source": [
    "Now we need to figure how well $Chest$ $Pain$ and $Blocked$ $Arteries$ separate these $164$ patients ($37$ with $Heart$ $Disease$ and $127$ without $Heart$ $Disease$)."
   ]
  },
  {
   "cell_type": "markdown",
   "metadata": {},
   "source": [
    "Just like we did before we separate this patients based on $Chest$ $Pain$ and then calculate $Gini$ $Impurity$ values."
   ]
  },
  {
   "cell_type": "code",
   "execution_count": 15,
   "metadata": {},
   "outputs": [],
   "source": [
    "# add the image of the tree which are using for spliting the patients on futher leaves:."
   ]
  },
  {
   "cell_type": "markdown",
   "metadata": {},
   "source": [
    "$1-$ $Gini$ $Impurity$:"
   ]
  },
  {
   "cell_type": "markdown",
   "metadata": {},
   "source": [
    "For  leaf on the $Left$."
   ]
  },
  {
   "cell_type": "markdown",
   "metadata": {},
   "source": [
    "\\begin{equation}\n",
    "Gini Impurity = 1 - (probability of 'Yes')^{2} - (probability of 'No')^{2}\n",
    "\\end{equation}"
   ]
  },
  {
   "cell_type": "markdown",
   "metadata": {},
   "source": [
    "\\begin{equation}\n",
    "= 1-  (\\frac{13}{13+98})^{2} - (\\frac{98}{13+98})^{2}\n",
    "\\end{equation}"
   ]
  },
  {
   "cell_type": "markdown",
   "metadata": {},
   "source": [
    "\\begin{equation}\n",
    "= 0.207\n",
    "\\end{equation}"
   ]
  },
  {
   "cell_type": "markdown",
   "metadata": {},
   "source": [
    "For leaf on the $Right$."
   ]
  },
  {
   "cell_type": "markdown",
   "metadata": {},
   "source": [
    "\\begin{equation}\n",
    "Gini Impurity = 1 - (probability of 'Yes')^{2} - (probability of 'No')^{2}\n",
    "\\end{equation}"
   ]
  },
  {
   "cell_type": "markdown",
   "metadata": {},
   "source": [
    "\\begin{equation}\n",
    "= 1 -  (\\frac{24}{24+29})^{2} - (\\frac{29}{24+29})^{2}\n",
    "\\end{equation}"
   ]
  },
  {
   "cell_type": "markdown",
   "metadata": {},
   "source": [
    "\\begin{equation}\n",
    "= 0.495\n",
    "\\end{equation}"
   ]
  },
  {
   "cell_type": "markdown",
   "metadata": {},
   "source": [
    "Now that we have measured the $Gini$ $Impurity$ for both leaf nodes, we can calculate the total $Gini$ $Impurity$ for using $Chest$ $Pain$ to separate patients with and without $Heart$ $Disease$."
   ]
  },
  {
   "cell_type": "markdown",
   "metadata": {},
   "source": [
    "Because leaf on the $Left$ represents $111$ patients and leaf on the $Right$ represents $53$ patients."
   ]
  },
  {
   "cell_type": "markdown",
   "metadata": {},
   "source": [
    "the leaf nodes do not represent the same number of patients."
   ]
  },
  {
   "cell_type": "markdown",
   "metadata": {},
   "source": [
    "Thus , the total $Gini$ $Impurity$ for using $Chest$ $Pain$ to separate patients with and without $Heart$ $Disease$ is the $Weighted$ $Average$ $Of$ $Leaf$ $Node$ $Impurity$. "
   ]
  },
  {
   "cell_type": "markdown",
   "metadata": {},
   "source": [
    "\\begin{equation}\n",
    "Gini Impurity For Chest Pain =  Weighted Average Of Gini Impurities Leaf Node Impurity \n",
    "\\end{equation}"
   ]
  },
  {
   "cell_type": "markdown",
   "metadata": {},
   "source": [
    "\\begin{equation}\n",
    "= (\\frac{111}{111+53})*0.207 + (\\frac{53}{111+53})*0.495\n",
    "\\end{equation}"
   ]
  },
  {
   "cell_type": "markdown",
   "metadata": {},
   "source": [
    "\\begin{equation}\n",
    "= 0.300\n",
    "\\end{equation}"
   ]
  },
  {
   "cell_type": "markdown",
   "metadata": {},
   "source": [
    "And then we do the exact same things for $Blocked$ $Arteries$."
   ]
  },
  {
   "cell_type": "code",
   "execution_count": 16,
   "metadata": {},
   "outputs": [],
   "source": [
    "# add the image for which we deivide the leaf on the left on the basis of the Blocked Arteires:"
   ]
  },
  {
   "cell_type": "markdown",
   "metadata": {},
   "source": [
    "$2-$ $Blocked$ $Impurity$:"
   ]
  },
  {
   "cell_type": "markdown",
   "metadata": {},
   "source": [
    "For leaf on the $Left$."
   ]
  },
  {
   "cell_type": "markdown",
   "metadata": {},
   "source": [
    "\\begin{equation}\n",
    "Gini Impurity = 1 - (probability of 'Yes')^{2} - (probability of 'No')^{2}\n",
    "\\end{equation}"
   ]
  },
  {
   "cell_type": "markdown",
   "metadata": {},
   "source": [
    "\\begin{equation}\n",
    "= 1 - (\\frac{24}{24+25})^{2} - (\\frac{25}{24+25})^{2}\n",
    "\\end{equation}"
   ]
  },
  {
   "cell_type": "markdown",
   "metadata": {},
   "source": [
    "\\begin{equation}\n",
    "= 0.499\n",
    "\\end{equation}"
   ]
  },
  {
   "cell_type": "markdown",
   "metadata": {},
   "source": [
    "For leaf on the $Right$."
   ]
  },
  {
   "cell_type": "markdown",
   "metadata": {},
   "source": [
    "\\begin{equation}\n",
    "Gini Impurity = 1 - (probability of 'Yes')^{2} - (probability of 'No')^{2}\n",
    "\\end{equation}"
   ]
  },
  {
   "cell_type": "markdown",
   "metadata": {},
   "source": [
    "\\begin{equation}\n",
    "= 1 - (\\frac{13}{13+102})^{2} - (\\frac{102}{13+102})^{2}\n",
    "\\end{equation}"
   ]
  },
  {
   "cell_type": "markdown",
   "metadata": {},
   "source": [
    "\\begin{equation}\n",
    "= 0.201\n",
    "\\end{equation}"
   ]
  },
  {
   "cell_type": "markdown",
   "metadata": {},
   "source": [
    "Now that we have measured the $Gini$ $Impurity$ for both leaf nodes, we can calculate the total $Gini$ $Impurity$ for using $Blocked$ $Arteries$ to separate patients with and without $Heart$ $Disease$."
   ]
  },
  {
   "cell_type": "markdown",
   "metadata": {},
   "source": [
    "Because leaf on the $Left$ represents $49$ patients and leaf on the $Right$ represents $115$ patients."
   ]
  },
  {
   "cell_type": "markdown",
   "metadata": {},
   "source": [
    "the leaf nodes do not represent the same number of patients."
   ]
  },
  {
   "cell_type": "markdown",
   "metadata": {},
   "source": [
    "Thus , the total $Gini$ $Impurity$ for using $Blocked$ $Arteries$ to separate patients with and without $Heart$ $Disease$ is the $Weighted$ $Average$ $Of$ $Leaf$ $Node$ $Impurity$. "
   ]
  },
  {
   "cell_type": "markdown",
   "metadata": {},
   "source": [
    "\\begin{equation}\n",
    "Gini Impurity For Blocked  Arteries =  Weighted Average Of Gini Impurities Leaf Node Impurity \n",
    "\\end{equation}"
   ]
  },
  {
   "cell_type": "markdown",
   "metadata": {},
   "source": [
    "\\begin{equation}\n",
    "= (\\frac{49}{49+115})*0.499 + (\\frac{115}{49+115})*0.201\n",
    "\\end{equation}"
   ]
  },
  {
   "cell_type": "markdown",
   "metadata": {},
   "source": [
    "\\begin{equation}\n",
    "=0.290\n",
    "\\end{equation}"
   ]
  },
  {
   "cell_type": "markdown",
   "metadata": {},
   "source": [
    "Since $Blocked$ $Arteries$ has the lowest $Gini$ $Impurity$ , we will use it at this node to separate patients."
   ]
  },
  {
   "cell_type": "code",
   "execution_count": 18,
   "metadata": {},
   "outputs": [],
   "source": [
    "# add the image of the tree which are finally decided features good blood cir as root node:\n",
    "# blocked arteries as left node :"
   ]
  },
  {
   "cell_type": "markdown",
   "metadata": {},
   "source": [
    "Here's that the tree that we have worked out so for."
   ]
  },
  {
   "cell_type": "markdown",
   "metadata": {},
   "source": [
    "We started at the top by separating patients with $Good$ $Blood$ $Circulation$.then we used blocked Arteries to separate patients on the left side of the tree."
   ]
  },
  {
   "cell_type": "markdown",
   "metadata": {},
   "source": [
    "All we have left is  $Chest$ $Pain$ , so first  we will see how well it separates these $49$ patients (24 with $Heart$ $Disease$ and $25$ without $Heart$ $Disease$)."
   ]
  },
  {
   "cell_type": "code",
   "execution_count": 19,
   "metadata": {},
   "outputs": [],
   "source": [
    "## add the image of that the final featured also used for split the data into futher leaf node:"
   ]
  },
  {
   "cell_type": "markdown",
   "metadata": {},
   "source": [
    "so these are the final leaf nodes on this branch of the tree."
   ]
  },
  {
   "cell_type": "markdown",
   "metadata": {},
   "source": [
    "Now let's see  what happens when we use $Chest$ $Pain$  to divide these $115$ patients ($13$ with $Heart$ $Disease$ and $102$ without).  "
   ]
  },
  {
   "cell_type": "markdown",
   "metadata": {},
   "source": [
    "$Note-$ The  vast majority  of the patients in this node ($89$%) don't have $Heart$ $Disease$."
   ]
  },
  {
   "cell_type": "code",
   "execution_count": 20,
   "metadata": {},
   "outputs": [],
   "source": [
    "# add the image which are using to divided futher this above leaf node:"
   ]
  },
  {
   "cell_type": "markdown",
   "metadata": {},
   "source": [
    "$1-$ $Chest$ $Pain$:"
   ]
  },
  {
   "cell_type": "markdown",
   "metadata": {},
   "source": [
    "For leaf on the $Left$."
   ]
  },
  {
   "cell_type": "markdown",
   "metadata": {},
   "source": [
    "\\begin{equation}\n",
    "Gini Impurity = 1 - (probability of 'Yes')^{2} - (probability of 'No')^{2}\n",
    "\\end{equation}"
   ]
  },
  {
   "cell_type": "markdown",
   "metadata": {},
   "source": [
    "\\begin{equation}\n",
    "= 1 -(\\frac{7}{7+26})^{2} - (\\frac{26}{7+26})^{2}\n",
    "\\end{equation}"
   ]
  },
  {
   "cell_type": "markdown",
   "metadata": {},
   "source": [
    "\\begin{equation}\n",
    "= 0.334\n",
    "\\end{equation}"
   ]
  },
  {
   "cell_type": "markdown",
   "metadata": {},
   "source": [
    "For leaf on the $Right$."
   ]
  },
  {
   "cell_type": "markdown",
   "metadata": {},
   "source": [
    "\\begin{equation}\n",
    "Gini Impurity = 1 - (probability of 'Yes')^{2} - (probability of 'No')^{2}\n",
    "\\end{equation}"
   ]
  },
  {
   "cell_type": "markdown",
   "metadata": {},
   "source": [
    "\\begin{equation}\n",
    "= 1 -(\\frac{6}{6+76})^{2} - (\\frac{76}{6+76})^{2}\n",
    "\\end{equation}"
   ]
  },
  {
   "cell_type": "markdown",
   "metadata": {},
   "source": [
    "\\begin{equation}\n",
    "= 0.136\n",
    "\\end{equation}"
   ]
  },
  {
   "cell_type": "markdown",
   "metadata": {},
   "source": [
    "Now that we have measured the $Gini$ $Impurity$ for both leaf nodes, we can calculate the total $Gini$ $Impurity$ for using $Chest$ $Pain$ to separate patients with and without $Heart$ $Disease$."
   ]
  },
  {
   "cell_type": "markdown",
   "metadata": {},
   "source": [
    "Because leaf on the $Left$ represents $33$ patients and leaf on the $Right$ represents $82$ patients."
   ]
  },
  {
   "cell_type": "markdown",
   "metadata": {},
   "source": [
    "Thus , the total $Gini$ $Impurity$ for using $Chest$ $Pain$ to separate patients with and without $Heart$ $Disease$ is the $Weighted$ $Average$ $Of$ $Leaf$ $Node$ $Impurity$. "
   ]
  },
  {
   "cell_type": "markdown",
   "metadata": {},
   "source": [
    "the leaf nodes do not represent the same number of patients."
   ]
  },
  {
   "cell_type": "markdown",
   "metadata": {},
   "source": [
    "\\begin{equation}\n",
    "Gini Impurity For Chest Pain =  Weighted Average Of Gini Impurities Leaf Node Impurity \n",
    "\\end{equation}"
   ]
  },
  {
   "cell_type": "markdown",
   "metadata": {},
   "source": [
    "\\begin{equation}\n",
    "= (\\frac{33}{33+82})*0.334 + (\\frac{82}{33+82})*0.136\n",
    "\\end{equation}"
   ]
  },
  {
   "cell_type": "markdown",
   "metadata": {},
   "source": [
    "\\begin{equation}\n",
    "= 0.193\n",
    "\\end{equation}"
   ]
  },
  {
   "cell_type": "markdown",
   "metadata": {},
   "source": [
    "Now the $Gini$ $Impurity$ for this node, before using $Chest$ $Pain$ to separate patients is.."
   ]
  },
  {
   "cell_type": "markdown",
   "metadata": {},
   "source": [
    "\\begin{equation}\n",
    "Gini Impurity = 1 - (probability of 'Yes')^{2} - (probability of 'No')^{2}\n",
    "\\end{equation}"
   ]
  },
  {
   "cell_type": "markdown",
   "metadata": {},
   "source": [
    "\\begin{equation}\n",
    "= 1- (\\frac{13}{13+102})^{2} - (\\frac{102}{13+102})^{2}\n",
    "\\end{equation}"
   ]
  },
  {
   "cell_type": "markdown",
   "metadata": {},
   "source": [
    "\\begin{equation}\n",
    " = 0.200\n",
    "\\end{equation}"
   ]
  },
  {
   "cell_type": "markdown",
   "metadata": {},
   "source": [
    "The $Gini$ $Impurity$ of $Chest$ $Pain$ is lower than the $Gini$ $Impurity$ without separates patients. "
   ]
  },
  {
   "cell_type": "markdown",
   "metadata": {},
   "source": [
    "so we separates the leaf node on the basis of $Chest$ $Pain$ futher, and we did completely spliting of node in futher leaf node in left side."
   ]
  },
  {
   "cell_type": "code",
   "execution_count": 22,
   "metadata": {},
   "outputs": [],
   "source": [
    "## add the image of final spliting the node in the left side:"
   ]
  },
  {
   "cell_type": "markdown",
   "metadata": {},
   "source": [
    "Now we need to talk about the right side of the tree."
   ]
  },
  {
   "cell_type": "markdown",
   "metadata": {},
   "source": [
    "The good news is that we follow the exact same steps as we did on the left side."
   ]
  },
  {
   "cell_type": "markdown",
   "metadata": {},
   "source": [
    "$1-$ Calculate all of the $Gini$ $Impurity$ Scores."
   ]
  },
  {
   "cell_type": "markdown",
   "metadata": {},
   "source": [
    "$2-$ if the node itself has the lowest score, than there is no point in separating the patients any more and it becomes a leaf node."
   ]
  },
  {
   "cell_type": "markdown",
   "metadata": {},
   "source": [
    "$3-$  if separating the data results in an improvement , than pick the separation with the lowest $Impurity$ value."
   ]
  },
  {
   "cell_type": "markdown",
   "metadata": {},
   "source": [
    "So far  we have seen how to build a tree with $Yes$/$No$ questions at each step"
   ]
  },
  {
   "cell_type": "code",
   "execution_count": 23,
   "metadata": {},
   "outputs": [],
   "source": [
    "# add the final decision tree on this datasets:"
   ]
  },
  {
   "cell_type": "markdown",
   "metadata": {},
   "source": [
    "$But$ $What$ $If$ $We$ $Have$ $Numeric$ $Data$, $Like$ $Patient$ $Weight$ ?."
   ]
  },
  {
   "cell_type": "markdown",
   "metadata": {},
   "source": [
    "Imagine if this were out data."
   ]
  },
  {
   "cell_type": "code",
   "execution_count": 24,
   "metadata": {},
   "outputs": [],
   "source": [
    "data1 = pd.DataFrame()"
   ]
  },
  {
   "cell_type": "code",
   "execution_count": 25,
   "metadata": {},
   "outputs": [],
   "source": [
    "data1['Weight'] = [200,180,225,190,155]"
   ]
  },
  {
   "cell_type": "code",
   "execution_count": 26,
   "metadata": {},
   "outputs": [],
   "source": [
    "data1['Heart Disease'] = ['Yes','Yes','Yes','No','No']  "
   ]
  },
  {
   "cell_type": "code",
   "execution_count": 27,
   "metadata": {},
   "outputs": [
    {
     "data": {
      "text/html": [
       "<div>\n",
       "<style scoped>\n",
       "    .dataframe tbody tr th:only-of-type {\n",
       "        vertical-align: middle;\n",
       "    }\n",
       "\n",
       "    .dataframe tbody tr th {\n",
       "        vertical-align: top;\n",
       "    }\n",
       "\n",
       "    .dataframe thead th {\n",
       "        text-align: right;\n",
       "    }\n",
       "</style>\n",
       "<table border=\"1\" class=\"dataframe\">\n",
       "  <thead>\n",
       "    <tr style=\"text-align: right;\">\n",
       "      <th></th>\n",
       "      <th>Weight</th>\n",
       "      <th>Heart Disease</th>\n",
       "    </tr>\n",
       "  </thead>\n",
       "  <tbody>\n",
       "    <tr>\n",
       "      <th>0</th>\n",
       "      <td>200</td>\n",
       "      <td>Yes</td>\n",
       "    </tr>\n",
       "    <tr>\n",
       "      <th>1</th>\n",
       "      <td>180</td>\n",
       "      <td>Yes</td>\n",
       "    </tr>\n",
       "    <tr>\n",
       "      <th>2</th>\n",
       "      <td>225</td>\n",
       "      <td>Yes</td>\n",
       "    </tr>\n",
       "    <tr>\n",
       "      <th>3</th>\n",
       "      <td>190</td>\n",
       "      <td>No</td>\n",
       "    </tr>\n",
       "    <tr>\n",
       "      <th>4</th>\n",
       "      <td>155</td>\n",
       "      <td>No</td>\n",
       "    </tr>\n",
       "  </tbody>\n",
       "</table>\n",
       "</div>"
      ],
      "text/plain": [
       "   Weight Heart Disease\n",
       "0     200           Yes\n",
       "1     180           Yes\n",
       "2     225           Yes\n",
       "3     190            No\n",
       "4     155            No"
      ]
     },
     "execution_count": 27,
     "metadata": {},
     "output_type": "execute_result"
    }
   ],
   "source": [
    "data1.head()"
   ]
  },
  {
   "cell_type": "markdown",
   "metadata": {},
   "source": [
    "How do we determine what's the best weight to use to divide the patients $?$"
   ]
  },
  {
   "cell_type": "markdown",
   "metadata": {},
   "source": [
    "$Step$ $-1$ Sort the patients by weight, lowest to highest."
   ]
  },
  {
   "cell_type": "code",
   "execution_count": 28,
   "metadata": {},
   "outputs": [
    {
     "data": {
      "text/html": [
       "<div>\n",
       "<style scoped>\n",
       "    .dataframe tbody tr th:only-of-type {\n",
       "        vertical-align: middle;\n",
       "    }\n",
       "\n",
       "    .dataframe tbody tr th {\n",
       "        vertical-align: top;\n",
       "    }\n",
       "\n",
       "    .dataframe thead th {\n",
       "        text-align: right;\n",
       "    }\n",
       "</style>\n",
       "<table border=\"1\" class=\"dataframe\">\n",
       "  <thead>\n",
       "    <tr style=\"text-align: right;\">\n",
       "      <th></th>\n",
       "      <th>Weight</th>\n",
       "      <th>Heart Disease</th>\n",
       "    </tr>\n",
       "  </thead>\n",
       "  <tbody>\n",
       "    <tr>\n",
       "      <th>4</th>\n",
       "      <td>155</td>\n",
       "      <td>No</td>\n",
       "    </tr>\n",
       "    <tr>\n",
       "      <th>1</th>\n",
       "      <td>180</td>\n",
       "      <td>Yes</td>\n",
       "    </tr>\n",
       "    <tr>\n",
       "      <th>3</th>\n",
       "      <td>190</td>\n",
       "      <td>No</td>\n",
       "    </tr>\n",
       "    <tr>\n",
       "      <th>0</th>\n",
       "      <td>200</td>\n",
       "      <td>Yes</td>\n",
       "    </tr>\n",
       "    <tr>\n",
       "      <th>2</th>\n",
       "      <td>225</td>\n",
       "      <td>Yes</td>\n",
       "    </tr>\n",
       "  </tbody>\n",
       "</table>\n",
       "</div>"
      ],
      "text/plain": [
       "   Weight Heart Disease\n",
       "4     155            No\n",
       "1     180           Yes\n",
       "3     190            No\n",
       "0     200           Yes\n",
       "2     225           Yes"
      ]
     },
     "execution_count": 28,
     "metadata": {},
     "output_type": "execute_result"
    }
   ],
   "source": [
    "data1.sort_values(['Weight'],axis=0)"
   ]
  },
  {
   "cell_type": "markdown",
   "metadata": {},
   "source": [
    "$Step-$ $2$  Calculate the average weight for all  adjacent patients."
   ]
  },
  {
   "cell_type": "code",
   "execution_count": 37,
   "metadata": {},
   "outputs": [],
   "source": []
  },
  {
   "cell_type": "markdown",
   "metadata": {},
   "source": [
    "$Step - 3$ Calculate the $Impurity$ $Values$ for each average weight."
   ]
  },
  {
   "cell_type": "markdown",
   "metadata": {},
   "source": [
    "In this case we calculate $4$ $Impurity$ $Values$ and the lowest $Impurity$ $Value$ occures when we separate using $Wight$ < $Impurity$ $Value$."
   ]
  },
  {
   "cell_type": "markdown",
   "metadata": {},
   "source": [
    "So this the $Cutoff$ and $Impurity$ $Value$ we will use when compare $Weight$ to $Chest$ $Pain$ or $Blocked$ $Arteries$."
   ]
  },
  {
   "cell_type": "markdown",
   "metadata": {},
   "source": [
    "Now let's talk about $Ranked$ $Data$ , like $rank$ $my$ jokes on a scale of $1$ to $4$. and $multiple$ $choice$  data, like $which$ $color$ $do$ $you$ $like$ $red$ ,$blue$ or $green$ $?$"
   ]
  },
  {
   "cell_type": "markdown",
   "metadata": {},
   "source": [
    "$Ranked$ $Data$  is similar to numeric data, except instead now we calculate $Impurity$ $Scores$ for all of the possible $Ranks$."
   ]
  },
  {
   "cell_type": "code",
   "execution_count": 40,
   "metadata": {},
   "outputs": [],
   "source": [
    "data2 = pd.DataFrame()"
   ]
  },
  {
   "cell_type": "code",
   "execution_count": 43,
   "metadata": {},
   "outputs": [],
   "source": [
    "data2['Rank my jokes..'] = [1,1,3,1,'etc..']"
   ]
  },
  {
   "cell_type": "code",
   "execution_count": 44,
   "metadata": {},
   "outputs": [],
   "source": [
    "data2['Like or not'] = ['Yes','No','Yes','Yes','etc...']"
   ]
  },
  {
   "cell_type": "code",
   "execution_count": 45,
   "metadata": {},
   "outputs": [
    {
     "data": {
      "text/html": [
       "<div>\n",
       "<style scoped>\n",
       "    .dataframe tbody tr th:only-of-type {\n",
       "        vertical-align: middle;\n",
       "    }\n",
       "\n",
       "    .dataframe tbody tr th {\n",
       "        vertical-align: top;\n",
       "    }\n",
       "\n",
       "    .dataframe thead th {\n",
       "        text-align: right;\n",
       "    }\n",
       "</style>\n",
       "<table border=\"1\" class=\"dataframe\">\n",
       "  <thead>\n",
       "    <tr style=\"text-align: right;\">\n",
       "      <th></th>\n",
       "      <th>Rank my jokes..</th>\n",
       "      <th>Like or not</th>\n",
       "    </tr>\n",
       "  </thead>\n",
       "  <tbody>\n",
       "    <tr>\n",
       "      <th>0</th>\n",
       "      <td>1</td>\n",
       "      <td>Yes</td>\n",
       "    </tr>\n",
       "    <tr>\n",
       "      <th>1</th>\n",
       "      <td>1</td>\n",
       "      <td>No</td>\n",
       "    </tr>\n",
       "    <tr>\n",
       "      <th>2</th>\n",
       "      <td>3</td>\n",
       "      <td>Yes</td>\n",
       "    </tr>\n",
       "    <tr>\n",
       "      <th>3</th>\n",
       "      <td>1</td>\n",
       "      <td>Yes</td>\n",
       "    </tr>\n",
       "    <tr>\n",
       "      <th>4</th>\n",
       "      <td>etc..</td>\n",
       "      <td>etc...</td>\n",
       "    </tr>\n",
       "  </tbody>\n",
       "</table>\n",
       "</div>"
      ],
      "text/plain": [
       "  Rank my jokes.. Like or not\n",
       "0               1         Yes\n",
       "1               1          No\n",
       "2               3         Yes\n",
       "3               1         Yes\n",
       "4           etc..      etc..."
      ]
     },
     "execution_count": 45,
     "metadata": {},
     "output_type": "execute_result"
    }
   ],
   "source": [
    "data2.head()"
   ]
  },
  {
   "cell_type": "markdown",
   "metadata": {},
   "source": [
    "so if people could rank my jokes from $1$ to $4$ ($4$ being the funniest) , we would calculate the following $Impurity$  $Scores$."
   ]
  },
  {
   "cell_type": "markdown",
   "metadata": {},
   "source": [
    "$Joke$ $Rank$ < 1,$Joke$ $Rank$ < 2 and $Joke$ $Rank$ < 3."
   ]
  },
  {
   "cell_type": "markdown",
   "metadata": {},
   "source": [
    "$Note-$ we do not have to calculate $Impurity$ $Score$ for $Joke$ $Rank$ < $4$, because that include everyone."
   ]
  },
  {
   "cell_type": "markdown",
   "metadata": {},
   "source": [
    "When there are $Multiple$ $Choices$, like $color$  $choice$ can be $blue$ , $green$ or $red$, you calculate an $Impurity$ $score$ for each one as well as each possible combination."
   ]
  },
  {
   "cell_type": "code",
   "execution_count": 46,
   "metadata": {},
   "outputs": [],
   "source": [
    "data3 = pd.DataFrame()"
   ]
  },
  {
   "cell_type": "code",
   "execution_count": 47,
   "metadata": {},
   "outputs": [],
   "source": [
    "data3['colour choice'] = ['green','blue','red','green','etc']"
   ]
  },
  {
   "cell_type": "code",
   "execution_count": 48,
   "metadata": {},
   "outputs": [],
   "source": [
    "data3['like or not'] = ['Yes','No','Yes','Yes','etc']"
   ]
  },
  {
   "cell_type": "code",
   "execution_count": 49,
   "metadata": {},
   "outputs": [
    {
     "data": {
      "text/html": [
       "<div>\n",
       "<style scoped>\n",
       "    .dataframe tbody tr th:only-of-type {\n",
       "        vertical-align: middle;\n",
       "    }\n",
       "\n",
       "    .dataframe tbody tr th {\n",
       "        vertical-align: top;\n",
       "    }\n",
       "\n",
       "    .dataframe thead th {\n",
       "        text-align: right;\n",
       "    }\n",
       "</style>\n",
       "<table border=\"1\" class=\"dataframe\">\n",
       "  <thead>\n",
       "    <tr style=\"text-align: right;\">\n",
       "      <th></th>\n",
       "      <th>colour choice</th>\n",
       "      <th>like or not</th>\n",
       "    </tr>\n",
       "  </thead>\n",
       "  <tbody>\n",
       "    <tr>\n",
       "      <th>0</th>\n",
       "      <td>green</td>\n",
       "      <td>Yes</td>\n",
       "    </tr>\n",
       "    <tr>\n",
       "      <th>1</th>\n",
       "      <td>blue</td>\n",
       "      <td>No</td>\n",
       "    </tr>\n",
       "    <tr>\n",
       "      <th>2</th>\n",
       "      <td>red</td>\n",
       "      <td>Yes</td>\n",
       "    </tr>\n",
       "    <tr>\n",
       "      <th>3</th>\n",
       "      <td>green</td>\n",
       "      <td>Yes</td>\n",
       "    </tr>\n",
       "    <tr>\n",
       "      <th>4</th>\n",
       "      <td>etc</td>\n",
       "      <td>etc</td>\n",
       "    </tr>\n",
       "  </tbody>\n",
       "</table>\n",
       "</div>"
      ],
      "text/plain": [
       "  colour choice like or not\n",
       "0         green         Yes\n",
       "1          blue          No\n",
       "2           red         Yes\n",
       "3         green         Yes\n",
       "4           etc         etc"
      ]
     },
     "execution_count": 49,
     "metadata": {},
     "output_type": "execute_result"
    }
   ],
   "source": [
    "data3.head()"
   ]
  },
  {
   "cell_type": "markdown",
   "metadata": {},
   "source": [
    "For this example, with three colors (blue, red and green) we get the following options...."
   ]
  },
  {
   "cell_type": "markdown",
   "metadata": {},
   "source": [
    "$color$ $choice$ : $Blue$, $color$ $choice$ : $Green$, $color$ $choice$ : $Red$,$color$ $choice$ : $Blue$ or $Green$ ,$color$ $choice$ : $Blue$ or $Red$ ,$color$ $choice$ : $Red$ or $Green$ "
   ]
  },
  {
   "cell_type": "markdown",
   "metadata": {},
   "source": [
    "$Note$- We do not have to calculate an $Impurity$ $Score$ for $Color$ $Choice$: $Blue$ or $Green$ or $Red$ since that includes everyone."
   ]
  },
  {
   "cell_type": "code",
   "execution_count": null,
   "metadata": {},
   "outputs": [],
   "source": []
  }
 ],
 "metadata": {
  "kernelspec": {
   "display_name": "Python 3",
   "language": "python",
   "name": "python3"
  },
  "language_info": {
   "codemirror_mode": {
    "name": "ipython",
    "version": 3
   },
   "file_extension": ".py",
   "mimetype": "text/x-python",
   "name": "python",
   "nbconvert_exporter": "python",
   "pygments_lexer": "ipython3",
   "version": "3.7.3"
  }
 },
 "nbformat": 4,
 "nbformat_minor": 2
}
